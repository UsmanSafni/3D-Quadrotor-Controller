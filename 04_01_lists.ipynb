{
  "cells": [
    {
      "cell_type": "markdown",
      "id": "aec5c7a9",
      "metadata": {
        "id": "aec5c7a9"
      },
      "source": [
        "## Lists"
      ]
    },
    {
      "cell_type": "markdown",
      "id": "6b95c52f",
      "metadata": {
        "id": "6b95c52f"
      },
      "source": [
        "### List Slicing"
      ]
    },
    {
      "cell_type": "code",
      "execution_count": null,
      "id": "f3869ca7",
      "metadata": {
        "id": "f3869ca7",
        "outputId": "470e0fe0-4674-4312-ab56-4fba5ddead8b"
      },
      "outputs": [
        {
          "data": {
            "text/plain": [
              "[4, 5]"
            ]
          },
          "execution_count": 1,
          "metadata": {},
          "output_type": "execute_result"
        }
      ],
      "source": [
        "myList = [1,2,3,4,5]\n",
        "myList[3:]"
      ]
    },
    {
      "cell_type": "code",
      "execution_count": null,
      "id": "e6fef4b7",
      "metadata": {
        "id": "e6fef4b7",
        "outputId": "9767e895-6932-4a65-a1e8-2b162d696b6a"
      },
      "outputs": [
        {
          "data": {
            "text/plain": [
              "[1, 3, 5]"
            ]
          },
          "execution_count": 2,
          "metadata": {},
          "output_type": "execute_result"
        }
      ],
      "source": [
        "myList[0:6:2]"
      ]
    },
    {
      "cell_type": "code",
      "execution_count": null,
      "id": "6d587461",
      "metadata": {
        "id": "6d587461",
        "outputId": "6a124186-df97-4337-888c-79c9da710df3"
      },
      "outputs": [
        {
          "data": {
            "text/plain": [
              "[1, 4]"
            ]
          },
          "execution_count": 3,
          "metadata": {},
          "output_type": "execute_result"
        }
      ],
      "source": [
        "myList[0:6:3]"
      ]
    },
    {
      "cell_type": "code",
      "execution_count": null,
      "id": "3103c64d",
      "metadata": {
        "id": "3103c64d",
        "outputId": "e08b052d-6e51-4c4e-d1b8-7400618bdc61"
      },
      "outputs": [
        {
          "data": {
            "text/plain": [
              "[1, 3, 5]"
            ]
          },
          "execution_count": 4,
          "metadata": {},
          "output_type": "execute_result"
        }
      ],
      "source": [
        "myList[::2]"
      ]
    },
    {
      "cell_type": "code",
      "execution_count": null,
      "id": "3dc127d5",
      "metadata": {
        "id": "3dc127d5"
      },
      "outputs": [],
      "source": [
        "for i in range(100):\n",
        "    print(i)"
      ]
    },
    {
      "cell_type": "code",
      "execution_count": null,
      "id": "57f1b769",
      "metadata": {
        "id": "57f1b769"
      },
      "outputs": [],
      "source": [
        "myList = list(range(100))"
      ]
    },
    {
      "cell_type": "code",
      "execution_count": null,
      "id": "6b968843",
      "metadata": {
        "id": "6b968843",
        "outputId": "a27a27a4-6daf-4678-afb8-ed249f91b6c1"
      },
      "outputs": [
        {
          "data": {
            "text/plain": [
              "[0, 10, 20, 30, 40, 50, 60, 70, 80, 90]"
            ]
          },
          "execution_count": 10,
          "metadata": {},
          "output_type": "execute_result"
        }
      ],
      "source": [
        "myList[::10]"
      ]
    },
    {
      "cell_type": "code",
      "execution_count": null,
      "id": "d6b81548",
      "metadata": {
        "id": "d6b81548",
        "outputId": "d0c9d8c8-63eb-43a6-bef5-019f1c959e82"
      },
      "outputs": [
        {
          "data": {
            "text/plain": [
              "[99, 89, 79, 69, 59, 49, 39, 29, 19, 9]"
            ]
          },
          "execution_count": 12,
          "metadata": {},
          "output_type": "execute_result"
        }
      ],
      "source": [
        "myList[::-10]"
      ]
    },
    {
      "cell_type": "markdown",
      "id": "d138451b",
      "metadata": {
        "id": "d138451b"
      },
      "source": [
        "### Modifying Lists"
      ]
    },
    {
      "cell_type": "code",
      "execution_count": null,
      "id": "5c065aff",
      "metadata": {
        "id": "5c065aff",
        "outputId": "1bc7793f-9bf0-4c78-cd79-ea966c82d66f"
      },
      "outputs": [
        {
          "name": "stdout",
          "output_type": "stream",
          "text": [
            "[1, 2, 3, 4, 5]\n"
          ]
        }
      ],
      "source": [
        "myList = [1,2,3,4]\n",
        "myList.append(5)\n",
        "print(myList)"
      ]
    },
    {
      "cell_type": "code",
      "execution_count": null,
      "id": "93e06c86",
      "metadata": {
        "id": "93e06c86",
        "outputId": "c38d0db9-2e3e-45ed-9490-267f50dae5e7"
      },
      "outputs": [
        {
          "name": "stdout",
          "output_type": "stream",
          "text": [
            "[1, 2, 3, 'a new value', 4, 5]\n"
          ]
        }
      ],
      "source": [
        "myList.insert(3, 'a new value')\n",
        "print(myList)"
      ]
    },
    {
      "cell_type": "code",
      "execution_count": null,
      "id": "860ff53b",
      "metadata": {
        "id": "860ff53b",
        "outputId": "79b38655-f779-4dfa-b5c3-8a62b15d5214"
      },
      "outputs": [
        {
          "ename": "ValueError",
          "evalue": "list.remove(x): x not in list",
          "output_type": "error",
          "traceback": [
            "\u001b[0;31m---------------------------------------------------------------------------\u001b[0m",
            "\u001b[0;31mValueError\u001b[0m                                Traceback (most recent call last)",
            "Input \u001b[0;32mIn [17]\u001b[0m, in \u001b[0;36m<module>\u001b[0;34m\u001b[0m\n\u001b[0;32m----> 1\u001b[0m \u001b[43mmyList\u001b[49m\u001b[38;5;241;43m.\u001b[39;49m\u001b[43mremove\u001b[49m\u001b[43m(\u001b[49m\u001b[38;5;124;43m'\u001b[39;49m\u001b[38;5;124;43ma new value\u001b[39;49m\u001b[38;5;124;43m'\u001b[39;49m\u001b[43m)\u001b[49m\n",
            "\u001b[0;31mValueError\u001b[0m: list.remove(x): x not in list"
          ]
        }
      ],
      "source": [
        "myList.remove('a new value')"
      ]
    },
    {
      "cell_type": "code",
      "execution_count": null,
      "id": "83863968",
      "metadata": {
        "id": "83863968",
        "outputId": "b4e938a9-5004-4f62-d535-ceab13717b8c"
      },
      "outputs": [
        {
          "data": {
            "text/plain": [
              "[1, 2, 3, 4, 5]"
            ]
          },
          "execution_count": 16,
          "metadata": {},
          "output_type": "execute_result"
        }
      ],
      "source": [
        "myList"
      ]
    },
    {
      "cell_type": "code",
      "execution_count": null,
      "id": "d5a8f0cd",
      "metadata": {
        "id": "d5a8f0cd",
        "outputId": "7193b402-0936-4480-fc84-c83e8c340eb1"
      },
      "outputs": [
        {
          "data": {
            "text/plain": [
              "5"
            ]
          },
          "execution_count": 18,
          "metadata": {},
          "output_type": "execute_result"
        }
      ],
      "source": [
        "myList.pop()"
      ]
    },
    {
      "cell_type": "code",
      "execution_count": null,
      "id": "7d51f9c9",
      "metadata": {
        "id": "7d51f9c9",
        "outputId": "44ef2f15-2dc3-4bd3-9c0c-cbd9b7f56030"
      },
      "outputs": [
        {
          "data": {
            "text/plain": [
              "[1, 2, 3, 4]"
            ]
          },
          "execution_count": 19,
          "metadata": {},
          "output_type": "execute_result"
        }
      ],
      "source": [
        "myList"
      ]
    },
    {
      "cell_type": "code",
      "execution_count": null,
      "id": "2356b2a6",
      "metadata": {
        "id": "2356b2a6",
        "outputId": "f67d6480-4fb7-4ce8-b856-9110b8ef4dc4"
      },
      "outputs": [
        {
          "name": "stdout",
          "output_type": "stream",
          "text": [
            "4\n",
            "3\n",
            "2\n",
            "1\n"
          ]
        }
      ],
      "source": [
        "while len(myList):\n",
        "    print(myList.pop())"
      ]
    },
    {
      "cell_type": "code",
      "execution_count": null,
      "id": "5ddad205",
      "metadata": {
        "id": "5ddad205",
        "outputId": "34a3d141-ba38-41a0-d679-ad621c4dae1f"
      },
      "outputs": [
        {
          "data": {
            "text/plain": [
              "[]"
            ]
          },
          "execution_count": 21,
          "metadata": {},
          "output_type": "execute_result"
        }
      ],
      "source": [
        "myList"
      ]
    },
    {
      "cell_type": "code",
      "execution_count": null,
      "id": "501f1468",
      "metadata": {
        "id": "501f1468",
        "outputId": "88418627-9495-4d91-d318-5c280eb3839f"
      },
      "outputs": [
        {
          "name": "stdout",
          "output_type": "stream",
          "text": [
            "[1, 2, 3, 4, 5, 6]\n"
          ]
        }
      ],
      "source": [
        "a = [1,2,3,4,5]\n",
        "b = a\n",
        "a.append(6)\n",
        "print(b)"
      ]
    },
    {
      "cell_type": "code",
      "execution_count": null,
      "id": "89a368d1",
      "metadata": {
        "id": "89a368d1",
        "outputId": "2c6fff76-333f-4b75-f9b1-d3afa408cb7c"
      },
      "outputs": [
        {
          "name": "stdout",
          "output_type": "stream",
          "text": [
            "[1, 2, 3, 4, 5, 6]\n",
            "[1, 2, 3, 4, 5]\n"
          ]
        }
      ],
      "source": [
        "a = [1,2,3,4,5]\n",
        "b = a.copy()\n",
        "a.append(6)\n",
        "print(a)\n",
        "print(b)"
      ]
    },
    {
      "cell_type": "code",
      "execution_count": null,
      "id": "6e1ceb3e",
      "metadata": {
        "id": "6e1ceb3e",
        "outputId": "aaaae4e5-29e3-485d-be59-767cded46ebf"
      },
      "outputs": [
        {
          "name": "stdout",
          "output_type": "stream",
          "text": [
            "0\n",
            "1\n",
            "2\n",
            "3\n",
            "4\n",
            "5\n",
            "6\n",
            "7\n",
            "8\n",
            "9\n",
            "10\n",
            "11\n",
            "12\n",
            "13\n",
            "14\n",
            "15\n",
            "16\n",
            "17\n",
            "18\n",
            "19\n"
          ]
        }
      ],
      "source": [
        "for i in range(20):\n",
        "    print(i)"
      ]
    },
    {
      "cell_type": "code",
      "execution_count": null,
      "id": "07868576",
      "metadata": {
        "id": "07868576"
      },
      "outputs": [],
      "source": []
    }
  ],
  "metadata": {
    "kernelspec": {
      "display_name": "Python 3 (ipykernel)",
      "language": "python",
      "name": "python3"
    },
    "language_info": {
      "codemirror_mode": {
        "name": "ipython",
        "version": 3
      },
      "file_extension": ".py",
      "mimetype": "text/x-python",
      "name": "python",
      "nbconvert_exporter": "python",
      "pygments_lexer": "ipython3",
      "version": "3.10.2"
    },
    "colab": {
      "provenance": []
    }
  },
  "nbformat": 4,
  "nbformat_minor": 5
}